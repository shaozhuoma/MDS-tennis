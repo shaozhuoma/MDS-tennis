{
 "cells": [
  {
   "cell_type": "code",
   "execution_count": 1,
   "id": "97ddac4d",
   "metadata": {},
   "outputs": [
    {
     "name": "stdout",
     "output_type": "stream",
     "text": [
      "Hello MDS tennis project!\n",
      "Hello again!\n"
     ]
    }
   ],
   "source": [
    "print(\"Hello MDS tennis project!\")\n",
    "print(\"Hello again!\")"
   ]
  }
 ],
 "metadata": {
  "kernelspec": {
   "display_name": "base",
   "language": "python",
   "name": "python3"
  },
  "language_info": {
   "codemirror_mode": {
    "name": "ipython",
    "version": 3
   },
   "file_extension": ".py",
   "mimetype": "text/x-python",
   "name": "python",
   "nbconvert_exporter": "python",
   "pygments_lexer": "ipython3",
   "version": "3.11.5"
  }
 },
 "nbformat": 4,
 "nbformat_minor": 5
}
